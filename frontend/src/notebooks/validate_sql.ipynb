{
 "cells": [
  {
   "cell_type": "markdown",
   "id": "6ad3796d-686a-44d6-a203-691498e633dd",
   "metadata": {},
   "source": [
    "# Validate that SQL reports match original reports\n",
    "\n",
    "This notebook finds all CSV files in the working directory that don't start with the string *SQL*, then it iterates over them finding a corresponding file that does start with *SQL*. It expects to find both files or it will fail. It compares the two files and reports the differences if they have the same shape."
   ]
  },
  {
   "cell_type": "code",
   "execution_count": null,
   "id": "fdbb6478-70c5-485a-9a9c-d284a83ef8dc",
   "metadata": {},
   "outputs": [],
   "source": [
    "from datetime import datetime, date, timedelta\n",
    "from os import path, getcwd\n",
    "from glob import glob\n",
    "import pandas as pd"
   ]
  },
  {
   "cell_type": "code",
   "execution_count": null,
   "id": "21ca0742-4944-4dc0-9a6e-16325f267381",
   "metadata": {},
   "outputs": [],
   "source": [
    "# Load the CSVs\n",
    "# Iterate over all the CSV files in the working directory, \n",
    "# selecting only those that begin with 'SQL'. Then iterate\n",
    "# over that set, loading its corresponding original for each item\n",
    "directory = getcwd()\n",
    "csv_files = glob(path.join(directory,\"*.csv\"))\n",
    "non_sql_csv_files = [path.basename(file) for file in csv_files if not path.basename(file).startswith(\"SQL\")]\n",
    "\n",
    "for f in non_sql_csv_files:\n",
    "    print(f'comparing {f} to SQL{f}')\n",
    "    df = pd.read_csv(f, index_col=\"tbtePayrollId\")\n",
    "    df_sql = pd.read_csv(f'SQL{f}', index_col=\"tbtePayrollId\")\n",
    "    # check shape then compare\n",
    "    if (df.shape == df_sql.shape):\n",
    "        result = df.compare(df_sql)\n",
    "        display(result)\n",
    "    else:\n",
    "        print(u'\\u2718' + \" Frame shapes differ, unable to compare\")"
   ]
  }
 ],
 "metadata": {
  "kernelspec": {
   "display_name": "Python 3 (ipykernel)",
   "language": "python",
   "name": "python3"
  },
  "language_info": {
   "codemirror_mode": {
    "name": "ipython",
    "version": 3
   },
   "file_extension": ".py",
   "mimetype": "text/x-python",
   "name": "python",
   "nbconvert_exporter": "python",
   "pygments_lexer": "ipython3",
   "version": "3.9.16"
  }
 },
 "nbformat": 4,
 "nbformat_minor": 5
}
